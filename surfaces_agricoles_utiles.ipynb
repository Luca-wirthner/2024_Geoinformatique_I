{
  "nbformat": 4,
  "nbformat_minor": 0,
  "metadata": {
    "colab": {
      "provenance": [],
      "authorship_tag": "ABX9TyNwFxB2JKohTw0YC5VVEWXw",
      "include_colab_link": true
    },
    "kernelspec": {
      "name": "python3",
      "display_name": "Python 3"
    },
    "language_info": {
      "name": "python"
    }
  },
  "cells": [
    {
      "cell_type": "markdown",
      "metadata": {
        "id": "view-in-github",
        "colab_type": "text"
      },
      "source": [
        "<a href=\"https://colab.research.google.com/github/Luca-wirthner/2024_Geoinformatique_I/blob/main/surfaces_agricoles_utiles.ipynb\" target=\"_parent\"><img src=\"https://colab.research.google.com/assets/colab-badge.svg\" alt=\"Open In Colab\"/></a>"
      ]
    },
    {
      "cell_type": "code",
      "execution_count": 1,
      "metadata": {
        "colab": {
          "base_uri": "https://localhost:8080/"
        },
        "id": "eHfhpjMqrS1a",
        "outputId": "1370713f-8dbb-4c83-8cbb-86e8ba8c01c6"
      },
      "outputs": [
        {
          "output_type": "stream",
          "name": "stdout",
          "text": [
            "Requirement already satisfied: pooch in /usr/local/lib/python3.10/dist-packages (1.8.2)\n",
            "Requirement already satisfied: platformdirs>=2.5.0 in /usr/local/lib/python3.10/dist-packages (from pooch) (4.3.6)\n",
            "Requirement already satisfied: packaging>=20.0 in /usr/local/lib/python3.10/dist-packages (from pooch) (24.2)\n",
            "Requirement already satisfied: requests>=2.19.0 in /usr/local/lib/python3.10/dist-packages (from pooch) (2.32.3)\n",
            "Requirement already satisfied: charset-normalizer<4,>=2 in /usr/local/lib/python3.10/dist-packages (from requests>=2.19.0->pooch) (3.4.0)\n",
            "Requirement already satisfied: idna<4,>=2.5 in /usr/local/lib/python3.10/dist-packages (from requests>=2.19.0->pooch) (3.10)\n",
            "Requirement already satisfied: urllib3<3,>=1.21.1 in /usr/local/lib/python3.10/dist-packages (from requests>=2.19.0->pooch) (2.2.3)\n",
            "Requirement already satisfied: certifi>=2017.4.17 in /usr/local/lib/python3.10/dist-packages (from requests>=2.19.0->pooch) (2024.8.30)\n"
          ]
        }
      ],
      "source": [
        "import geopandas as gpd\n",
        "!pip install pooch\n",
        "import pooch"
      ]
    },
    {
      "cell_type": "code",
      "source": [
        "data_agri = pooch.retrieve(\n",
        "    url = 'https://files.swisscarto.ch/geoinf1/vd_dgav_surfaces_agricoles.zip',\n",
        "    known_hash = None\n",
        ")"
      ],
      "metadata": {
        "id": "0km5wEBUsHYy"
      },
      "execution_count": 8,
      "outputs": []
    },
    {
      "cell_type": "code",
      "source": [
        "import zipfile\n",
        "import os"
      ],
      "metadata": {
        "id": "kVnPqukss0Oo"
      },
      "execution_count": 5,
      "outputs": []
    },
    {
      "cell_type": "code",
      "source": [
        "with zipfile.ZipFile(data_agri, 'r') as zip_ref:\n",
        "    zip_ref.extractall('/content/surfaces_agricoles')"
      ],
      "metadata": {
        "id": "FW5LyvO1wiOj"
      },
      "execution_count": 9,
      "outputs": []
    },
    {
      "cell_type": "code",
      "source": [
        "gpkg_path =  '/content/surfaces_agricoles/vd_dgav_surfaces_agricoles.gpkg'\n",
        "gdf_agri = gpd.read_file(gpkg_path,layer = 'agr_dgav_sau')"
      ],
      "metadata": {
        "id": "q5Q9EW4Ux_SA"
      },
      "execution_count": 10,
      "outputs": []
    },
    {
      "cell_type": "code",
      "source": [],
      "metadata": {
        "id": "_LZ_NUFG079G"
      },
      "execution_count": null,
      "outputs": []
    }
  ]
}