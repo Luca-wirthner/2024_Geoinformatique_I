{
  "nbformat": 4,
  "nbformat_minor": 0,
  "metadata": {
    "colab": {
      "provenance": [],
      "authorship_tag": "ABX9TyNrrPypm9HWqfSDocpOUfA+",
      "include_colab_link": true
    },
    "kernelspec": {
      "name": "python3",
      "display_name": "Python 3"
    },
    "language_info": {
      "name": "python"
    }
  },
  "cells": [
    {
      "cell_type": "markdown",
      "metadata": {
        "id": "view-in-github",
        "colab_type": "text"
      },
      "source": [
        "<a href=\"https://colab.research.google.com/github/Luca-wirthner/2024_Geoinformatique_I/blob/main/ogr2_pop.ipynb\" target=\"_parent\"><img src=\"https://colab.research.google.com/assets/colab-badge.svg\" alt=\"Open In Colab\"/></a>"
      ]
    },
    {
      "cell_type": "code",
      "source": [
        "!apt-get update\n",
        "!apt-get install -y gdal-bin python3-gdal\n",
        "!ogr2ogr --version"
      ],
      "metadata": {
        "id": "u5YlnwUCmGki"
      },
      "execution_count": null,
      "outputs": []
    },
    {
      "cell_type": "code",
      "execution_count": null,
      "metadata": {
        "id": "G2EbBs7EkDZS"
      },
      "outputs": [],
      "source": [
        "# Import des données pour la population\n",
        "from google.colab import files\n",
        "uploaded = files.upload()"
      ]
    },
    {
      "cell_type": "code",
      "source": [
        "xmi = 2525726\n",
        "ymi = 1169525\n",
        "xma = 2549726\n",
        "yma = 1189525"
      ],
      "metadata": {
        "id": "JtwyCkuyp4U4"
      },
      "execution_count": 1,
      "outputs": []
    },
    {
      "cell_type": "code",
      "source": [
        "# Traitement des données de population\n",
        "!ogr2ogr -f \"GPKG\" /content/ofs_geostat.gpkg /content/STATPOP2023.csv \\\n",
        "  -nln pop_2023 -oo X_POSSIBLE_NAMES=E_KOORD -oo Y_POSSIBLE_NAMES=N_KOORD \\\n",
        "  -a_srs EPSG:2056 -select BBTOT,E_KOORD,N_KOORD \\\n",
        "  -mapFieldType All=Integer /content/ofs_geostat.gpkg /content/STATENT_2022.csv \\\n",
        "  -spat 2550096 1177734 2570096 1197734"
      ],
      "metadata": {
        "id": "efRFFksUl8Hq"
      },
      "execution_count": null,
      "outputs": []
    },
    {
      "cell_type": "code",
      "source": [
        "ogr2ogr -update -nln pois -t_srs EPSG:2056 \\\n",
        "  -spat 2600000 1199000 2601500 1200500 \\\n",
        "  -spat_srs EPSG:2056 \\\n",
        "  osm.gpkg gis_osm_pois.shp"
      ],
      "metadata": {
        "id": "W9QUfBqYnJSV"
      },
      "execution_count": null,
      "outputs": []
    }
  ]
}